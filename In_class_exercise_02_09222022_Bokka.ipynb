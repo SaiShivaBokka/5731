{
  "cells": [
    {
      "cell_type": "markdown",
      "metadata": {
        "id": "8B0ipi3VbnQ-"
      },
      "source": [
        "## The second In-class-exercise (09/22/2022, 40 points in total)"
      ]
    },
    {
      "cell_type": "markdown",
      "metadata": {
        "id": "nAhearIQbnRD"
      },
      "source": [
        "The purpose of this exercise is to understand users' information needs, then collect data from different sources for analysis."
      ]
    },
    {
      "cell_type": "markdown",
      "metadata": {
        "id": "Au2X7XoxbnRE"
      },
      "source": [
        "Question 1 (10 points): Describe an interesting research question (or practical question) you have in mind, what kind of data should be collected to answer the question(s)? How many data needed for the analysis? The detail steps for collecting and save the data. "
      ]
    },
    {
      "cell_type": "code",
      "execution_count": null,
      "metadata": {
        "colab": {
          "base_uri": "https://localhost:8080/",
          "height": 54
        },
        "id": "J9QYKptRbnRG",
        "outputId": "17f45f0e-6f8e-44fb-d259-d5b71baad951"
      },
      "outputs": [
        {
          "output_type": "execute_result",
          "data": {
            "text/plain": [
              "'\\nPlease write you answer here:\\nData Collected from Amazon\\nProduct Price is collected for results\\nApproximately around 15 Pages of information is collected.\\n\\nUsing web scraping technique\\nbeautiful soup library is used for parsing\\nTo make the dictionary from parsed data\\n'"
            ],
            "application/vnd.google.colaboratory.intrinsic+json": {
              "type": "string"
            }
          },
          "metadata": {},
          "execution_count": 1
        }
      ],
      "source": [
        "# Your answer here (no code for this question, write down your answer as detail as possible for the above questions):\n",
        "\n",
        "'''\n",
        "Please write you answer here:\n",
        "Data Collected from Amazon\n",
        "Product Price is collected for results\n",
        "Approximately around 15 Pages of information is collected.\n",
        "\n",
        "Using web scraping technique\n",
        "beautiful soup library is used for parsing\n",
        "To make the dictionary from parsed data\n",
        "'''"
      ]
    },
    {
      "cell_type": "markdown",
      "metadata": {
        "id": "sD0lF925bnRK"
      },
      "source": [
        "Question 2 (10 points): Write python code to collect 1000 data samples you discussed above."
      ]
    },
    {
      "cell_type": "code",
      "execution_count": null,
      "metadata": {
        "id": "0x4lqTLubnRL",
        "colab": {
          "base_uri": "https://localhost:8080/"
        },
        "outputId": "0653b0a8-8840-4a1f-cff8-2d59a1208516"
      },
      "outputs": [
        {
          "output_type": "stream",
          "name": "stdout",
          "text": [
            "Empty DataFrame\n",
            "Columns: [Price]\n",
            "Index: []\n"
          ]
        }
      ],
      "source": [
        "# You code here (Please add comments in the code):\n",
        "from bs4 import BeautifulSoup\n",
        "from urllib.request import Request, urlopen\n",
        "from urllib.error import HTTPError\n",
        "import json\n",
        "import pandas as pd\n",
        "import re\n",
        "\n",
        "# Link to Data\n",
        "URL = \"https://www.apartments.com/venue-at-8651-fort-worth-tx/9qqfk95/\"\n",
        "df = pd.DataFrame()\n",
        "pricelist = {\"Price\": []}\n",
        "for pages in range(1, 20):\n",
        "    pages = pages + 9\n",
        "    # for scrubbing data soup of the main url page elements in html elements.\n",
        "    link = Request(URL.format(pages), headers={'User-Agent': 'chrome'})\n",
        "    url = urlopen(link)\n",
        "    data = url.read()\n",
        "    data_soup = BeautifulSoup(data)\n",
        "    \n",
        "    i = data_soup.find_all(\"span\", {\"class\": \"a-price-whole\"})\n",
        "    for price in i:\n",
        "        pricelist['Price'].append(price.text)\n",
        "\n",
        "\n",
        "df = pd.DataFrame(pricelist)    \n",
        "print(df)"
      ]
    },
    {
      "cell_type": "markdown",
      "metadata": {
        "id": "lcEzcnWzbnRM"
      },
      "source": [
        "Question 3 (10 points): Write python code to collect 1000 articles from Google Scholar (https://scholar.google.com/), Microsoft Academic (https://academic.microsoft.com/home), or CiteSeerX (https://citeseerx.ist.psu.edu/index), or Semantic Scholar (https://www.semanticscholar.org/), or ACM Digital Libraries (https://dl.acm.org/) with the keyword \"information retrieval\". The articles should be published in the last 10 years (2012-2022).\n",
        "\n",
        "The following information of the article needs to be collected:\n",
        "\n",
        "(1) Title\n",
        "\n",
        "(2) Venue/journal/conference being published\n",
        "\n",
        "(3) Year\n",
        "\n",
        "(4) Authors\n",
        "\n",
        "(5) Abstract"
      ]
    },
    {
      "cell_type": "code",
      "execution_count": null,
      "metadata": {
        "colab": {
          "base_uri": "https://localhost:8080/"
        },
        "id": "hfennDRnbnRN",
        "outputId": "22f545b6-9eea-4611-af82-b666091e123c"
      },
      "outputs": [
        {
          "output_type": "stream",
          "name": "stdout",
          "text": [
            " Save big, right now on the most powerful Pro, featuring the performance of a laptop and the flexibility of a tablet. If you have questions before you buy, chat with a product expert. \n"
          ]
        }
      ],
      "source": [
        "# You code here (Please add comments in the code):\n",
        "import urllib.request\n",
        "from bs4 import BeautifulSoup\n",
        "import json\n",
        "\n",
        "with urllib.request.urlopen('https://www.microsoft.com/en-us/') as filein:\n",
        "    pages = filein.read()\n",
        "    soups = BeautifulSoup(pages)\n",
        "    texts = soups.p.text\n",
        "    print(texts)\n",
        "    with open('2348407-meta.txt', 'w') as fileoutput:\n",
        "        json.dump(texts, fileoutput)"
      ]
    },
    {
      "cell_type": "markdown",
      "metadata": {
        "id": "2eafpZOcbnRN"
      },
      "source": [
        "Question 4 (10 points): Write python code to collect 1000 posts from Twitter, or Facebook, or Instagram. You can either use hashtags, keywords, user_name, user_id, or other information to collect the data. \n",
        "\n",
        "The following information needs to be collected:\n",
        "\n",
        "(1) User_name\n",
        "\n",
        "(2) Posted time\n",
        "\n",
        "(3) Text "
      ]
    },
    {
      "cell_type": "code",
      "execution_count": null,
      "metadata": {
        "colab": {
          "base_uri": "https://localhost:8080/"
        },
        "id": "pT3cLrdXbnRP",
        "outputId": "6c78b4cc-fd73-4987-c3e0-59e38c3f26f1"
      },
      "outputs": [
        {
          "output_type": "stream",
          "name": "stdout",
          "text": [
            "Looking in indexes: https://pypi.org/simple, https://us-python.pkg.dev/colab-wheels/public/simple/\n",
            "Requirement already satisfied: tweepy in /usr/local/lib/python3.7/dist-packages (3.10.0)\n",
            "Requirement already satisfied: requests[socks]>=2.11.1 in /usr/local/lib/python3.7/dist-packages (from tweepy) (2.23.0)\n",
            "Requirement already satisfied: requests-oauthlib>=0.7.0 in /usr/local/lib/python3.7/dist-packages (from tweepy) (1.3.1)\n",
            "Requirement already satisfied: six>=1.10.0 in /usr/local/lib/python3.7/dist-packages (from tweepy) (1.15.0)\n",
            "Requirement already satisfied: oauthlib>=3.0.0 in /usr/local/lib/python3.7/dist-packages (from requests-oauthlib>=0.7.0->tweepy) (3.2.0)\n",
            "Requirement already satisfied: chardet<4,>=3.0.2 in /usr/local/lib/python3.7/dist-packages (from requests[socks]>=2.11.1->tweepy) (3.0.4)\n",
            "Requirement already satisfied: urllib3!=1.25.0,!=1.25.1,<1.26,>=1.21.1 in /usr/local/lib/python3.7/dist-packages (from requests[socks]>=2.11.1->tweepy) (1.24.3)\n",
            "Requirement already satisfied: certifi>=2017.4.17 in /usr/local/lib/python3.7/dist-packages (from requests[socks]>=2.11.1->tweepy) (2022.6.15)\n",
            "Requirement already satisfied: idna<3,>=2.5 in /usr/local/lib/python3.7/dist-packages (from requests[socks]>=2.11.1->tweepy) (2.10)\n",
            "Requirement already satisfied: PySocks!=1.5.7,>=1.5.6 in /usr/local/lib/python3.7/dist-packages (from requests[socks]>=2.11.1->tweepy) (1.7.1)\n"
          ]
        }
      ],
      "source": [
        "# You code here (Please add comments in the code):\n",
        "!pip install tweepy"
      ]
    },
    {
      "cell_type": "code",
      "source": [
        "import pandas as pd\n",
        "import numpy as np\n",
        "import tweepy\n",
        "from tweepy import OAuthHandler"
      ],
      "metadata": {
        "id": "LeSXYNPP-9eF"
      },
      "execution_count": null,
      "outputs": []
    },
    {
      "cell_type": "code",
      "source": [
        "pip install requests"
      ],
      "metadata": {
        "colab": {
          "base_uri": "https://localhost:8080/"
        },
        "id": "B4nwwqqSA1H6",
        "outputId": "7887479f-0ba3-4458-a1a2-929283309637"
      },
      "execution_count": null,
      "outputs": [
        {
          "output_type": "stream",
          "name": "stdout",
          "text": [
            "Looking in indexes: https://pypi.org/simple, https://us-python.pkg.dev/colab-wheels/public/simple/\n",
            "Requirement already satisfied: requests in /usr/local/lib/python3.7/dist-packages (2.23.0)\n",
            "Requirement already satisfied: urllib3!=1.25.0,!=1.25.1,<1.26,>=1.21.1 in /usr/local/lib/python3.7/dist-packages (from requests) (1.24.3)\n",
            "Requirement already satisfied: idna<3,>=2.5 in /usr/local/lib/python3.7/dist-packages (from requests) (2.10)\n",
            "Requirement already satisfied: chardet<4,>=3.0.2 in /usr/local/lib/python3.7/dist-packages (from requests) (3.0.4)\n",
            "Requirement already satisfied: certifi>=2017.4.17 in /usr/local/lib/python3.7/dist-packages (from requests) (2022.6.15)\n"
          ]
        }
      ]
    },
    {
      "cell_type": "code",
      "source": [
        "import requests\n",
        "import json"
      ],
      "metadata": {
        "id": "-kXrT3PPA21C"
      },
      "execution_count": null,
      "outputs": []
    },
    {
      "cell_type": "code",
      "source": [
        "key_customer =\"2Em7SxlX9jPMfL4x97r3zMO0x\"\n",
        "secret_customer = \"sVbJzekKuiAgq83Y7gCwNVbSowqQokGVzWexKHl2cXIPceWtSd\"\n",
        "token_access =\"1439767876962029572-uUMt8oWRyzj9ilE5zk4uYbL93sCMPT\"\n",
        "secret_token_access = \"oydIGymn9bS767FVEMawE9GyGAnMmBJfaY2XXKmHnmliF\""
      ],
      "metadata": {
        "id": "8FzmWvpZA4a0"
      },
      "execution_count": null,
      "outputs": []
    },
    {
      "cell_type": "code",
      "source": [
        "authentication = tweepy.OAuthHandler(key_customer, secret_customer)\n",
        "authentication.set_access_token(token_access, secret_token_access)\n",
        "api = tweepy.API(authentication,wait_on_rate_limit=True)"
      ],
      "metadata": {
        "id": "tgtNIdkyA7o_"
      },
      "execution_count": null,
      "outputs": []
    },
    {
      "cell_type": "code",
      "source": [
        "username =str(input(\"Full Name\\t\"))"
      ],
      "metadata": {
        "colab": {
          "base_uri": "https://localhost:8080/"
        },
        "id": "boHcfpalBBtG",
        "outputId": "4246cabd-3d52-435e-96f5-a947bd63a4e3"
      },
      "execution_count": null,
      "outputs": [
        {
          "name": "stdout",
          "output_type": "stream",
          "text": [
            "Full Name\tmusk\n"
          ]
        }
      ]
    },
    {
      "cell_type": "code",
      "source": [
        "tweets = tweepy.Cursor(api.user_timeline,id=username).items(1000)\n",
        "\n",
        "tweets_ex = [[username ,tweet.created_at, tweet.text] for tweet in tweets]\n",
        "\n",
        "tweets_i = pd.DataFrame(tweets_ex)\n",
        "tweets_i.columns=['user_name','posted time','text']\n",
        "tweets_i"
      ],
      "metadata": {
        "colab": {
          "base_uri": "https://localhost:8080/",
          "height": 424
        },
        "id": "AHGOgiuuBCvj",
        "outputId": "b11e67a2-e608-499b-ae76-6cd313e149ca"
      },
      "execution_count": null,
      "outputs": [
        {
          "output_type": "execute_result",
          "data": {
            "text/plain": [
              "    user_name         posted time  \\\n",
              "0        musk 2022-07-20 17:01:30   \n",
              "1        musk 2022-07-20 16:55:07   \n",
              "2        musk 2021-07-13 23:52:02   \n",
              "3        musk 2021-05-11 14:18:47   \n",
              "4        musk 2021-04-25 06:42:45   \n",
              "..        ...                 ...   \n",
              "995      musk 2012-11-02 16:41:23   \n",
              "996      musk 2012-11-02 11:49:28   \n",
              "997      musk 2012-11-02 09:06:53   \n",
              "998      musk 2012-11-02 04:40:59   \n",
              "999      musk 2012-11-02 01:17:24   \n",
              "\n",
              "                                                  text  \n",
              "0    こういう写真はInstagramよりTwitterにアップするものよね？🐱 https://...  \n",
              "1                      #わらしべ長者 https://t.co/EDYnXtMZZH  \n",
              "2                            @GGK_666 めちゃ、分かります！（飲んでる）  \n",
              "3                     写真を投稿しましたhttps://t.co/4SNf5MPcOs  \n",
              "4                              https://t.co/joPhfQSQNf  \n",
              "..                                                 ...  \n",
              "995  起きてしまった息子がぐずるので、テレビを見ながら寝てしまっていた夫に「息子が寂しがってるよー...  \n",
              "996  今日も食べきれない量のエサを作る。\\n毎度のこと、うどんが入る隙がないYO！\\n#エサ ht...  \n",
              "997  夕食を何にするか考えるのがめんどく～さい～！\\n何が食べたいか言ってくれたら楽なのに？！\\n...  \n",
              "998  きのう、うっきうきになった「シェル拡張ライブラリ」の変わりになりそうなアプリは「FileMe...  \n",
              "999                          無断欠勤？\\nアリかかナシかで言ったらナシでしょ？  \n",
              "\n",
              "[1000 rows x 3 columns]"
            ],
            "text/html": [
              "\n",
              "  <div id=\"df-1665d5c9-4dec-4edb-b18f-b410100c1b26\">\n",
              "    <div class=\"colab-df-container\">\n",
              "      <div>\n",
              "<style scoped>\n",
              "    .dataframe tbody tr th:only-of-type {\n",
              "        vertical-align: middle;\n",
              "    }\n",
              "\n",
              "    .dataframe tbody tr th {\n",
              "        vertical-align: top;\n",
              "    }\n",
              "\n",
              "    .dataframe thead th {\n",
              "        text-align: right;\n",
              "    }\n",
              "</style>\n",
              "<table border=\"1\" class=\"dataframe\">\n",
              "  <thead>\n",
              "    <tr style=\"text-align: right;\">\n",
              "      <th></th>\n",
              "      <th>user_name</th>\n",
              "      <th>posted time</th>\n",
              "      <th>text</th>\n",
              "    </tr>\n",
              "  </thead>\n",
              "  <tbody>\n",
              "    <tr>\n",
              "      <th>0</th>\n",
              "      <td>musk</td>\n",
              "      <td>2022-07-20 17:01:30</td>\n",
              "      <td>こういう写真はInstagramよりTwitterにアップするものよね？🐱 https://...</td>\n",
              "    </tr>\n",
              "    <tr>\n",
              "      <th>1</th>\n",
              "      <td>musk</td>\n",
              "      <td>2022-07-20 16:55:07</td>\n",
              "      <td>#わらしべ長者 https://t.co/EDYnXtMZZH</td>\n",
              "    </tr>\n",
              "    <tr>\n",
              "      <th>2</th>\n",
              "      <td>musk</td>\n",
              "      <td>2021-07-13 23:52:02</td>\n",
              "      <td>@GGK_666 めちゃ、分かります！（飲んでる）</td>\n",
              "    </tr>\n",
              "    <tr>\n",
              "      <th>3</th>\n",
              "      <td>musk</td>\n",
              "      <td>2021-05-11 14:18:47</td>\n",
              "      <td>写真を投稿しましたhttps://t.co/4SNf5MPcOs</td>\n",
              "    </tr>\n",
              "    <tr>\n",
              "      <th>4</th>\n",
              "      <td>musk</td>\n",
              "      <td>2021-04-25 06:42:45</td>\n",
              "      <td>https://t.co/joPhfQSQNf</td>\n",
              "    </tr>\n",
              "    <tr>\n",
              "      <th>...</th>\n",
              "      <td>...</td>\n",
              "      <td>...</td>\n",
              "      <td>...</td>\n",
              "    </tr>\n",
              "    <tr>\n",
              "      <th>995</th>\n",
              "      <td>musk</td>\n",
              "      <td>2012-11-02 16:41:23</td>\n",
              "      <td>起きてしまった息子がぐずるので、テレビを見ながら寝てしまっていた夫に「息子が寂しがってるよー...</td>\n",
              "    </tr>\n",
              "    <tr>\n",
              "      <th>996</th>\n",
              "      <td>musk</td>\n",
              "      <td>2012-11-02 11:49:28</td>\n",
              "      <td>今日も食べきれない量のエサを作る。\\n毎度のこと、うどんが入る隙がないYO！\\n#エサ ht...</td>\n",
              "    </tr>\n",
              "    <tr>\n",
              "      <th>997</th>\n",
              "      <td>musk</td>\n",
              "      <td>2012-11-02 09:06:53</td>\n",
              "      <td>夕食を何にするか考えるのがめんどく～さい～！\\n何が食べたいか言ってくれたら楽なのに？！\\n...</td>\n",
              "    </tr>\n",
              "    <tr>\n",
              "      <th>998</th>\n",
              "      <td>musk</td>\n",
              "      <td>2012-11-02 04:40:59</td>\n",
              "      <td>きのう、うっきうきになった「シェル拡張ライブラリ」の変わりになりそうなアプリは「FileMe...</td>\n",
              "    </tr>\n",
              "    <tr>\n",
              "      <th>999</th>\n",
              "      <td>musk</td>\n",
              "      <td>2012-11-02 01:17:24</td>\n",
              "      <td>無断欠勤？\\nアリかかナシかで言ったらナシでしょ？</td>\n",
              "    </tr>\n",
              "  </tbody>\n",
              "</table>\n",
              "<p>1000 rows × 3 columns</p>\n",
              "</div>\n",
              "      <button class=\"colab-df-convert\" onclick=\"convertToInteractive('df-1665d5c9-4dec-4edb-b18f-b410100c1b26')\"\n",
              "              title=\"Convert this dataframe to an interactive table.\"\n",
              "              style=\"display:none;\">\n",
              "        \n",
              "  <svg xmlns=\"http://www.w3.org/2000/svg\" height=\"24px\"viewBox=\"0 0 24 24\"\n",
              "       width=\"24px\">\n",
              "    <path d=\"M0 0h24v24H0V0z\" fill=\"none\"/>\n",
              "    <path d=\"M18.56 5.44l.94 2.06.94-2.06 2.06-.94-2.06-.94-.94-2.06-.94 2.06-2.06.94zm-11 1L8.5 8.5l.94-2.06 2.06-.94-2.06-.94L8.5 2.5l-.94 2.06-2.06.94zm10 10l.94 2.06.94-2.06 2.06-.94-2.06-.94-.94-2.06-.94 2.06-2.06.94z\"/><path d=\"M17.41 7.96l-1.37-1.37c-.4-.4-.92-.59-1.43-.59-.52 0-1.04.2-1.43.59L10.3 9.45l-7.72 7.72c-.78.78-.78 2.05 0 2.83L4 21.41c.39.39.9.59 1.41.59.51 0 1.02-.2 1.41-.59l7.78-7.78 2.81-2.81c.8-.78.8-2.07 0-2.86zM5.41 20L4 18.59l7.72-7.72 1.47 1.35L5.41 20z\"/>\n",
              "  </svg>\n",
              "      </button>\n",
              "      \n",
              "  <style>\n",
              "    .colab-df-container {\n",
              "      display:flex;\n",
              "      flex-wrap:wrap;\n",
              "      gap: 12px;\n",
              "    }\n",
              "\n",
              "    .colab-df-convert {\n",
              "      background-color: #E8F0FE;\n",
              "      border: none;\n",
              "      border-radius: 50%;\n",
              "      cursor: pointer;\n",
              "      display: none;\n",
              "      fill: #1967D2;\n",
              "      height: 32px;\n",
              "      padding: 0 0 0 0;\n",
              "      width: 32px;\n",
              "    }\n",
              "\n",
              "    .colab-df-convert:hover {\n",
              "      background-color: #E2EBFA;\n",
              "      box-shadow: 0px 1px 2px rgba(60, 64, 67, 0.3), 0px 1px 3px 1px rgba(60, 64, 67, 0.15);\n",
              "      fill: #174EA6;\n",
              "    }\n",
              "\n",
              "    [theme=dark] .colab-df-convert {\n",
              "      background-color: #3B4455;\n",
              "      fill: #D2E3FC;\n",
              "    }\n",
              "\n",
              "    [theme=dark] .colab-df-convert:hover {\n",
              "      background-color: #434B5C;\n",
              "      box-shadow: 0px 1px 3px 1px rgba(0, 0, 0, 0.15);\n",
              "      filter: drop-shadow(0px 1px 2px rgba(0, 0, 0, 0.3));\n",
              "      fill: #FFFFFF;\n",
              "    }\n",
              "  </style>\n",
              "\n",
              "      <script>\n",
              "        const buttonEl =\n",
              "          document.querySelector('#df-1665d5c9-4dec-4edb-b18f-b410100c1b26 button.colab-df-convert');\n",
              "        buttonEl.style.display =\n",
              "          google.colab.kernel.accessAllowed ? 'block' : 'none';\n",
              "\n",
              "        async function convertToInteractive(key) {\n",
              "          const element = document.querySelector('#df-1665d5c9-4dec-4edb-b18f-b410100c1b26');\n",
              "          const dataTable =\n",
              "            await google.colab.kernel.invokeFunction('convertToInteractive',\n",
              "                                                     [key], {});\n",
              "          if (!dataTable) return;\n",
              "\n",
              "          const docLinkHtml = 'Like what you see? Visit the ' +\n",
              "            '<a target=\"_blank\" href=https://colab.research.google.com/notebooks/data_table.ipynb>data table notebook</a>'\n",
              "            + ' to learn more about interactive tables.';\n",
              "          element.innerHTML = '';\n",
              "          dataTable['output_type'] = 'display_data';\n",
              "          await google.colab.output.renderOutput(dataTable, element);\n",
              "          const docLink = document.createElement('div');\n",
              "          docLink.innerHTML = docLinkHtml;\n",
              "          element.appendChild(docLink);\n",
              "        }\n",
              "      </script>\n",
              "    </div>\n",
              "  </div>\n",
              "  "
            ]
          },
          "metadata": {},
          "execution_count": 11
        }
      ]
    },
    {
      "cell_type": "code",
      "source": [],
      "metadata": {
        "id": "J2maFY_yBIOg"
      },
      "execution_count": null,
      "outputs": []
    }
  ],
  "metadata": {
    "kernelspec": {
      "display_name": "Python 3 (ipykernel)",
      "language": "python",
      "name": "python3"
    },
    "language_info": {
      "codemirror_mode": {
        "name": "ipython",
        "version": 3
      },
      "file_extension": ".py",
      "mimetype": "text/x-python",
      "name": "python",
      "nbconvert_exporter": "python",
      "pygments_lexer": "ipython3",
      "version": "3.9.12"
    },
    "colab": {
      "provenance": [],
      "collapsed_sections": []
    }
  },
  "nbformat": 4,
  "nbformat_minor": 0
}